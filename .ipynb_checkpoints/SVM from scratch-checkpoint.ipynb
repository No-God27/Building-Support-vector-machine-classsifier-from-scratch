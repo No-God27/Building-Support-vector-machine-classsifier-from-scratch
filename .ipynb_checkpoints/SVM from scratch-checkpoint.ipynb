version https://git-lfs.github.com/spec/v1
oid sha256:3bb7542e5989936e82b00bfc615fd4f038978fe83e0b5a3f92e3ced9ddffaaff
size 40758
