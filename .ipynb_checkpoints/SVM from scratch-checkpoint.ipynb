version https://git-lfs.github.com/spec/v1
oid sha256:fc71aaac9fc165b0fefdd7466a8e58d23e3502f1fb9dcc9c3f020ee11f11eab0
size 4627
