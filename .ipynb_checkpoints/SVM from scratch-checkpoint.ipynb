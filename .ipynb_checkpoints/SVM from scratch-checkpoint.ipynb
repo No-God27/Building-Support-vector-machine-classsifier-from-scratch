version https://git-lfs.github.com/spec/v1
oid sha256:4088aa444ed591ed394bab790a4b34713293f3741047ce2866948325cc9f0c23
size 44040
